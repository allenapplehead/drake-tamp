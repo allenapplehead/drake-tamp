{
 "cells": [
  {
   "cell_type": "code",
   "execution_count": 1,
   "metadata": {},
   "outputs": [],
   "source": [
    "from meshcat.servers.zmqserver import start_zmq_server_as_subprocess\n",
    "proc, zmq_url, web_url = start_zmq_server_as_subprocess(server_args=[])\n",
    "\n",
    "import numpy as np\n",
    "\n",
    "import pydrake.all\n",
    "from pydrake.all import (\n",
    "    RigidTransform, RotationMatrix, AngleAxis, RollPitchYaw, InverseKinematics, MultibodyPlant, Parser,\n",
    "    FindResourceOrThrow, Solve, PiecewisePolynomial, TrajectorySource, SceneGraph, DiagramBuilder,\n",
    "    AddMultibodyPlantSceneGraph, LinearBushingRollPitchYaw, MathematicalProgram, AutoDiffXd, GenerateHtml, Role,\n",
    "    LeafSystem, AbstractValue, PublishEvent, TriggerType, BasicVector, PiecewiseQuaternionSlerp,\n",
    "    RandomGenerator, UniformlyRandomRotationMatrix\n",
    "    )\n",
    "\n",
    "from panda_station import *"
   ]
  },
  {
   "cell_type": "code",
   "execution_count": 2,
   "metadata": {},
   "outputs": [
    {
     "name": "stdout",
     "output_type": "stream",
     "text": [
      "['manipulation_station', 'modified_panda_hand', 'tables']\n",
      "Connecting to meshcat-server at zmq_url=tcp://127.0.0.1:6000...\n",
      "You can open the visualizer by visiting the following URL:\n",
      "http://127.0.0.1:7000/static/\n",
      "Connected to meshcat-server.\n",
      "RigidTransform(\n",
      "  R=RotationMatrix([\n",
      "    [1.0, 0.0, 0.0],\n",
      "    [0.0, 1.0, 0.0],\n",
      "    [0.0, 0.0, 1.0],\n",
      "  ]),\n",
      "  p=[0.0, 0.0, 0.0],\n",
      ")\n"
     ]
    }
   ],
   "source": [
    "builder = DiagramBuilder()\n",
    "plant, scene_graph = AddMultibodyPlantSceneGraph(builder, 0.0)\n",
    "parser = Parser(plant)\n",
    "\n",
    "add_package_paths(parser)\n",
    "print(parser.package_map().GetPackageNames())\n",
    "\n",
    "panda_hand = parser.AddModelFromFile(find_resource(\"models/modified_panda_hand/sdf/welded_panda_hand.sdf\"))\n",
    "plant.WeldFrames(plant.world_frame(), plant.GetFrameByName(\"panda_hand\"))\n",
    "\n",
    "\n",
    "plant.Finalize()\n",
    "meshcat = pydrake.systems.meshcat_visualizer.ConnectMeshcatVisualizer(builder,\n",
    "          scene_graph,\n",
    "          output_port=scene_graph.get_query_output_port(),\n",
    "          delete_prefix_on_load=True,                                      \n",
    "          zmq_url=zmq_url)#, role = Role.kProximity)# <- this commented part allows visualization of the collisions\n",
    "meshcat.load()\n",
    "diagram = builder.Build()\n",
    "diagram_context = diagram.CreateDefaultContext()\n",
    "\n",
    "\n",
    "frame = plant.GetFrameByName(\"panda_hand\", panda_hand)\n",
    "plant_context = plant.GetMyContextFromRoot(diagram_context)\n",
    "#plant.SetPositions(plant_context, panda_hand, [0.04, 0.04])\n",
    "print(frame.CalcPoseInWorld(plant_context))\n",
    "\n",
    "diagram.Publish(diagram_context)\n"
   ]
  }
 ],
 "metadata": {
  "kernelspec": {
   "display_name": "drake_env",
   "language": "python",
   "name": "drake_env"
  },
  "language_info": {
   "codemirror_mode": {
    "name": "ipython",
    "version": 3
   },
   "file_extension": ".py",
   "mimetype": "text/x-python",
   "name": "python",
   "nbconvert_exporter": "python",
   "pygments_lexer": "ipython3",
   "version": "3.6.9"
  }
 },
 "nbformat": 4,
 "nbformat_minor": 2
}
