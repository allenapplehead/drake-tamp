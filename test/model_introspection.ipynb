{
 "cells": [
  {
   "cell_type": "code",
   "execution_count": 1,
   "metadata": {},
   "outputs": [],
   "source": [
    "from meshcat.servers.zmqserver import start_zmq_server_as_subprocess\n",
    "proc, zmq_url, web_url = start_zmq_server_as_subprocess(server_args=[])\n",
    "\n",
    "import numpy as np\n",
    "\n",
    "import pydrake.all\n",
    "from pydrake.all import (\n",
    "    RigidTransform, RotationMatrix, AngleAxis, RollPitchYaw, InverseKinematics, MultibodyPlant, Parser,\n",
    "    FindResourceOrThrow, Solve, PiecewisePolynomial, TrajectorySource, SceneGraph, DiagramBuilder,\n",
    "    AddMultibodyPlantSceneGraph, LinearBushingRollPitchYaw, MathematicalProgram, AutoDiffXd, GenerateHtml, Role,\n",
    "    LeafSystem, AbstractValue, PublishEvent, TriggerType, BasicVector, PiecewiseQuaternionSlerp,\n",
    "    RandomGenerator, UniformlyRandomRotationMatrix, Simulator, FixedOffsetFrame\n",
    "    )\n",
    "\n",
    "from panda_station import *"
   ]
  },
  {
   "cell_type": "code",
   "execution_count": 7,
   "metadata": {},
   "outputs": [
    {
     "name": "stdout",
     "output_type": "stream",
     "text": [
      "/home/agrobenj/drake-tamp/panda_station/directives/three_tables.yaml\n",
      "Connecting to meshcat-server at zmq_url=tcp://127.0.0.1:6000...\n",
      "You can open the visualizer by visiting the following URL:\n",
      "http://127.0.0.1:7000/static/\n",
      "Connected to meshcat-server.\n",
      "PARSING START POSES:\n",
      "{'added_model_0': RigidTransform(\n",
      "  R=RotationMatrix([\n",
      "    [0.999999998074673, -5.329757998026651e-05, 3.178084453479318e-05],\n",
      "    [5.329742069706724e-05, 0.9999999985671286, 5.0127505419925114e-06],\n",
      "    [-3.178111165672825e-05, -5.011056695300048e-06, 0.9999999994824251],\n",
      "  ]),\n",
      "  p=[0.8000033267394582, 2.187963729147095e-07, 0.15925366217150516],\n",
      ")}\n",
      "PARSING INITIAL CONFIG\n",
      "{'panda': array([  4.68669110e-01,   9.99952726e-02,  -3.52246680e-05,\n",
      "        -1.08070244e+00,   1.31657919e-04,   1.54057927e+00,\n",
      "         7.07745213e-04])}\n",
      "PARSING TABLES\n",
      "['table', 'table_square', 'table_round']\n",
      "CREATING WELDED STATION\n"
     ]
    }
   ],
   "source": [
    "builder = DiagramBuilder()\n",
    "station = builder.AddSystem(PandaStation())\n",
    "station.setup_from_file(\"directives/three_tables.yaml\")\n",
    "station.add_panda_with_hand()\n",
    "plant, scene_graph = station.get_plant_and_scene_graph()\n",
    "\n",
    "#station.add_model_from_file(find_resource(\"models/manipulands/sdf/foam_brick.sdf\"), RigidTransform(RotationMatrix(), [0.6, 0, 0.2]))\n",
    "station.add_model_from_file(find_resource(\"models/manipulands/sdf/dumbbell.sdf\"), RigidTransform(RotationMatrix(), [0.8, 0, 0.2]),\n",
    "                           main_body_name = \"base_link\")\n",
    "frame = FixedOffsetFrame(\"foam_brick\", plant.world_frame(), RigidTransform(RotationMatrix(), [0.6, 0, 0.25]))\n",
    "plant.AddFrame(frame)\n",
    "\n",
    "parser = Parser(plant)\n",
    "brick = parser.AddModelFromFile(find_resource(\"models/manipulands/sdf/foam_brick.sdf\"), \"foam_brick\")\n",
    "plant.WeldFrames(frame, plant.GetFrameByName(\"base_link\", brick), RigidTransform())\n",
    "\n",
    "\n",
    "station.finalize()\n",
    "print(station.get_directive())\n",
    "\n",
    "\n",
    "meshcat = pydrake.systems.meshcat_visualizer.ConnectMeshcatVisualizer(builder,\n",
    "          scene_graph,\n",
    "          output_port=station.GetOutputPort(\"query_object\"),\n",
    "          delete_prefix_on_load=True,                                      \n",
    "          zmq_url=zmq_url)#, role = Role.kProximity)# <- this commented part allows visualization of the collisions\n",
    "meshcat.load()\n",
    "diagram = builder.Build()\n",
    "simulator = Simulator(diagram)\n",
    "simulator_context = simulator.get_context()\n",
    "station_context = station.GetMyContextFromRoot(simulator_context)\n",
    "station.GetInputPort(\"panda_position\").FixValue(station_context, np.array([np.pi/4, 0.1, 0, -1, 0, 1.5, 0]))\n",
    "station.GetInputPort(\"hand_position\").FixValue(station_context, [0.08])\n",
    "\n",
    "meshcat.start_recording()\n",
    "simulator.AdvanceTo(0.2)\n",
    "simulator_context = simulator.get_context()\n",
    "plant_context = plant.GetMyContextFromRoot(simulator_context)\n",
    "station_context = station.GetMyContextFromRoot(simulator_context)\n",
    "\n",
    "\n",
    "print(\"PARSING START POSES:\")\n",
    "print(parse_start_poses(station, station_context))\n",
    "print(\"PARSING INITIAL CONFIG\")\n",
    "print(parse_initial_config(station, station_context))\n",
    "print(\"PARSING TABLES\")\n",
    "print(parse_tables(station))\n",
    "print(\"CREATING WELDED STATION\")\n",
    "welded_station, body_infos = create_welded_station(station, station_context)\n",
    "\n",
    "\n",
    "frame.SetPoseInBodyFrame(plant_context, RigidTransform(RotationMatrix(), [0.6, 0.5, 0.2]))\n",
    "simulator.AdvanceTo(2.0)\n",
    "meshcat.stop_recording()\n",
    "meshcat.publish_recording()"
   ]
  },
  {
   "cell_type": "code",
   "execution_count": 8,
   "metadata": {},
   "outputs": [
    {
     "name": "stdout",
     "output_type": "stream",
     "text": [
      "added_model_0\n",
      "\n",
      "        main body index: BodyIndex(16)\n",
      "        offset_frame: <FixedOffsetFrame_[float] name='frame_added_model_0' index=43 model_instance=0> \n",
      "        cylinder <FixedOffsetFrame_[float] name='frame_added_model_0_base_link_0' index=44 model_instance=7>\n",
      "cylinder <FixedOffsetFrame_[float] name='frame_added_model_0_bottom_weight_0' index=45 model_instance=7>\n",
      "cylinder <FixedOffsetFrame_[float] name='frame_added_model_0_top_weight_0' index=46 model_instance=7>\n",
      "\n",
      "table\n",
      "\n",
      "        main body index: BodyIndex(1)\n",
      "        offset_frame: None \n",
      "        box <FixedOffsetFrame_[float] name='frame_table_base_link_0' index=47 model_instance=2>\n",
      "\n",
      "table_square\n",
      "\n",
      "        main body index: BodyIndex(2)\n",
      "        offset_frame: None \n",
      "        box <FixedOffsetFrame_[float] name='frame_table_square_base_link_0' index=48 model_instance=3>\n",
      "\n",
      "table_round\n",
      "\n",
      "        main body index: BodyIndex(3)\n",
      "        offset_frame: None \n",
      "        cylinder <FixedOffsetFrame_[float] name='frame_table_round_base_link_0' index=49 model_instance=4>\n",
      "\n"
     ]
    }
   ],
   "source": [
    "for name, info in body_infos.items():\n",
    "    print(name)\n",
    "    print(info)"
   ]
  },
  {
   "cell_type": "code",
   "execution_count": 9,
   "metadata": {},
   "outputs": [
    {
     "name": "stdout",
     "output_type": "stream",
     "text": [
      "added_model_0\n",
      "\n",
      "        main body index: BodyIndex(16)\n",
      "        offset_frame: None \n",
      "        cylinder <FixedOffsetFrame_[float] name='frame_added_model_0_base_link_0' index=43 model_instance=7>\n",
      "cylinder <FixedOffsetFrame_[float] name='frame_added_model_0_bottom_weight_0' index=44 model_instance=7>\n",
      "cylinder <FixedOffsetFrame_[float] name='frame_added_model_0_top_weight_0' index=45 model_instance=7>\n",
      "\n",
      "table\n",
      "\n",
      "        main body index: BodyIndex(1)\n",
      "        offset_frame: None \n",
      "        box <FixedOffsetFrame_[float] name='frame_table_base_link_0' index=46 model_instance=2>\n",
      "\n",
      "table_square\n",
      "\n",
      "        main body index: BodyIndex(2)\n",
      "        offset_frame: None \n",
      "        box <FixedOffsetFrame_[float] name='frame_table_square_base_link_0' index=47 model_instance=3>\n",
      "\n",
      "table_round\n",
      "\n",
      "        main body index: BodyIndex(3)\n",
      "        offset_frame: None \n",
      "        cylinder <FixedOffsetFrame_[float] name='frame_table_round_base_link_0' index=48 model_instance=4>\n",
      "\n"
     ]
    }
   ],
   "source": [
    "welded_station, body_infos = create_welded_station(station, station_context, holding_index = station.object_infos[\"added_model_0\"].main_body_index)\n",
    "for name, info in body_infos.items():\n",
    "    print(name)\n",
    "    print(info)"
   ]
  }
 ],
 "metadata": {
  "kernelspec": {
   "display_name": "drake_env",
   "language": "python",
   "name": "drake_env"
  },
  "language_info": {
   "codemirror_mode": {
    "name": "ipython",
    "version": 3
   },
   "file_extension": ".py",
   "mimetype": "text/x-python",
   "name": "python",
   "nbconvert_exporter": "python",
   "pygments_lexer": "ipython3",
   "version": "3.6.9"
  }
 },
 "nbformat": 4,
 "nbformat_minor": 2
}
