{
 "cells": [
  {
   "cell_type": "code",
   "execution_count": 1,
   "metadata": {},
   "outputs": [],
   "source": [
    "from meshcat.servers.zmqserver import start_zmq_server_as_subprocess\n",
    "proc, zmq_url, web_url = start_zmq_server_as_subprocess(server_args=[])\n",
    "\n",
    "import numpy as np\n",
    "\n",
    "import pydrake.all\n",
    "from pydrake.all import (\n",
    "    RigidTransform, RotationMatrix, AngleAxis, RollPitchYaw, InverseKinematics, MultibodyPlant, Parser,\n",
    "    FindResourceOrThrow, Solve, PiecewisePolynomial, TrajectorySource, SceneGraph, DiagramBuilder,\n",
    "    AddMultibodyPlantSceneGraph, LinearBushingRollPitchYaw, MathematicalProgram, AutoDiffXd, GenerateHtml, Role,\n",
    "    LeafSystem, AbstractValue, PublishEvent, TriggerType, BasicVector, PiecewiseQuaternionSlerp,\n",
    "    RandomGenerator, UniformlyRandomRotationMatrix, Simulator, FixedOffsetFrame\n",
    "    )\n",
    "\n",
    "from panda_station import *"
   ]
  },
  {
   "cell_type": "code",
   "execution_count": 2,
   "metadata": {},
   "outputs": [
    {
     "data": {
      "text/plain": [
       "'\\nbuilder = DiagramBuilder()\\nstation = PandaStation()\\n\\n\\nnames_and_links = [(name, \"base_link\") for name in parse_tables(find_resource(\"directives/three_tables.yaml\"))]\\nstation.setup_from_file(\"directives/three_tables.yaml\", names_and_links = names_and_links)\\nstation.add_panda_with_hand()\\nplant, scene_graph = station.get_plant_and_scene_graph()\\n\\n#station.add_model_from_file(find_resource(\"models/manipulands/sdf/foam_brick.sdf\"), RigidTransform(RotationMatrix(), [0.6, 0, 0.2]))\\nstation.add_model_from_file(find_resource(\"models/manipulands/sdf/foam_brick.sdf\"), RigidTransform(RotationMatrix(), [0.8, 0, 0.2]),\\n                           main_body_name = \"base_link\", welded = True, name = \"A\")\\nstation.add_model_from_file(find_resource(\"models/manipulands/sdf/dumbbell.sdf\"), RigidTransform(),\\n                           main_body_name = \"base_link\", P = plant.GetFrameByName(\"panda_hand\"), welded = True,\\n                            name = \"B\"\\n                           )\\n\\n\\nstation.finalize()\\n\\nbuilder.AddSystem(station)\\nmeshcat = pydrake.systems.meshcat_visualizer.ConnectMeshcatVisualizer(builder,\\n          scene_graph,\\n          output_port=station.GetOutputPort(\"query_object\"),\\n          delete_prefix_on_load=True,                                      \\n          zmq_url=zmq_url)#, role = Role.kProximity)# <- this commented part allows visualization of the collisions\\nmeshcat.load()\\ndiagram = builder.Build()\\nsimulator = Simulator(diagram)\\nsimulator_context = simulator.get_context()\\nstation_context = station.GetMyContextFromRoot(simulator_context)\\nstation.GetInputPort(\"panda_position\").FixValue(station_context, np.array([np.pi/4, 0.1, 0, -1, 0, 1.5, 0]))\\nstation.GetInputPort(\"hand_position\").FixValue(station_context, [0.08])\\n\\nmeshcat.start_recording()\\nsimulator.AdvanceTo(1.0)\\n\\nprint(\"PARSING STATION POSES\")\\nprint(parse_start_poses(station, station_context))\\nprint(\"PARSING INITAL CONFIG\")\\nprint(parse_config(station, station_context))\\nprint(\"PARSE TABLES\")\\nprint(parse_tables(find_resource(\"directives/three_tables.yaml\")))\\n\\npose_fluents = [\\n    (\"grasppose\", \"B\", RigidTransform(RotationMatrix(), [0, 0, 0.3])),\\n    (\"atpose\", \"A\", RigidTransform(RotationMatrix(), [0.8, 0.2, 0.2]))\\n]\\nupdate_station(station, station_context, pose_fluents)\\n\\nsimulator_context = simulator.get_context()\\nplant_context = plant.GetMyContextFromRoot(simulator_context)\\nstation_context = station.GetMyContextFromRoot(simulator_context)\\n\\nsimulator.AdvanceTo(2.0)\\nmeshcat.stop_recording()\\nmeshcat.publish_recording()\\n'"
      ]
     },
     "execution_count": 2,
     "metadata": {},
     "output_type": "execute_result"
    }
   ],
   "source": [
    "\"\"\"\n",
    "builder = DiagramBuilder()\n",
    "station = PandaStation()\n",
    "\n",
    "\n",
    "names_and_links = [(name, \"base_link\") for name in parse_tables(find_resource(\"directives/three_tables.yaml\"))]\n",
    "station.setup_from_file(\"directives/three_tables.yaml\", names_and_links = names_and_links)\n",
    "station.add_panda_with_hand()\n",
    "plant, scene_graph = station.get_plant_and_scene_graph()\n",
    "\n",
    "#station.add_model_from_file(find_resource(\"models/manipulands/sdf/foam_brick.sdf\"), RigidTransform(RotationMatrix(), [0.6, 0, 0.2]))\n",
    "station.add_model_from_file(find_resource(\"models/manipulands/sdf/foam_brick.sdf\"), RigidTransform(RotationMatrix(), [0.8, 0, 0.2]),\n",
    "                           main_body_name = \"base_link\", welded = True, name = \"A\")\n",
    "station.add_model_from_file(find_resource(\"models/manipulands/sdf/dumbbell.sdf\"), RigidTransform(),\n",
    "                           main_body_name = \"base_link\", P = plant.GetFrameByName(\"panda_hand\"), welded = True,\n",
    "                            name = \"B\"\n",
    "                           )\n",
    "\n",
    "\n",
    "station.finalize()\n",
    "\n",
    "builder.AddSystem(station)\n",
    "meshcat = pydrake.systems.meshcat_visualizer.ConnectMeshcatVisualizer(builder,\n",
    "          scene_graph,\n",
    "          output_port=station.GetOutputPort(\"query_object\"),\n",
    "          delete_prefix_on_load=True,                                      \n",
    "          zmq_url=zmq_url)#, role = Role.kProximity)# <- this commented part allows visualization of the collisions\n",
    "meshcat.load()\n",
    "diagram = builder.Build()\n",
    "simulator = Simulator(diagram)\n",
    "simulator_context = simulator.get_context()\n",
    "station_context = station.GetMyContextFromRoot(simulator_context)\n",
    "station.GetInputPort(\"panda_position\").FixValue(station_context, np.array([np.pi/4, 0.1, 0, -1, 0, 1.5, 0]))\n",
    "station.GetInputPort(\"hand_position\").FixValue(station_context, [0.08])\n",
    "\n",
    "meshcat.start_recording()\n",
    "simulator.AdvanceTo(1.0)\n",
    "\n",
    "print(\"PARSING STATION POSES\")\n",
    "print(parse_start_poses(station, station_context))\n",
    "print(\"PARSING INITAL CONFIG\")\n",
    "print(parse_config(station, station_context))\n",
    "print(\"PARSE TABLES\")\n",
    "print(parse_tables(find_resource(\"directives/three_tables.yaml\")))\n",
    "\n",
    "pose_fluents = [\n",
    "    (\"grasppose\", \"B\", RigidTransform(RotationMatrix(), [0, 0, 0.3])),\n",
    "    (\"atpose\", \"A\", RigidTransform(RotationMatrix(), [0.8, 0.2, 0.2]))\n",
    "]\n",
    "update_station(station, station_context, pose_fluents)\n",
    "\n",
    "simulator_context = simulator.get_context()\n",
    "plant_context = plant.GetMyContextFromRoot(simulator_context)\n",
    "station_context = station.GetMyContextFromRoot(simulator_context)\n",
    "\n",
    "simulator.AdvanceTo(2.0)\n",
    "meshcat.stop_recording()\n",
    "meshcat.publish_recording()\n",
    "\"\"\""
   ]
  },
  {
   "cell_type": "code",
   "execution_count": 3,
   "metadata": {},
   "outputs": [
    {
     "name": "stdout",
     "output_type": "stream",
     "text": [
      "directive: directives/three_tables.yaml\n",
      "object: foam_brick\n",
      "X_WO: RigidTransform(\n",
      "  R=RotationMatrix([\n",
      "    [1.0, 0.0, 0.0],\n",
      "    [0.0, 1.0, 0.0],\n",
      "    [-0.0, 0.0, 1.0],\n",
      "  ]),\n",
      "  p=[0.6, 0.0, 0.2],\n",
      ")\n",
      "object: meat_can\n",
      "X_WO: RigidTransform(\n",
      "  R=RotationMatrix([\n",
      "    [1.0, -0.0, 0.0],\n",
      "    [0.0, 0.0007963267107332633, 0.9999996829318346],\n",
      "    [-0.0, -0.9999996829318346, 0.0007963267107332633],\n",
      "  ]),\n",
      "  p=[0.5, 0.2, 0.2],\n",
      ")\n",
      "object: soup_can\n",
      "X_WO: RigidTransform(\n",
      "  R=RotationMatrix([\n",
      "    [1.0, -0.0, 0.0],\n",
      "    [0.0, 0.0007963267107332633, 0.9999996829318346],\n",
      "    [-0.0, -0.9999996829318346, 0.0007963267107332633],\n",
      "  ]),\n",
      "  p=[0.5, -0.2, 0.2],\n",
      ")\n",
      "\n"
     ]
    }
   ],
   "source": [
    "p = ProblemInfo(\"/home/agrobenj/drake-tamp/experiments/pick-place-regions/problems/test_problem.yaml\")\n",
    "print(p)"
   ]
  },
  {
   "cell_type": "code",
   "execution_count": 5,
   "metadata": {},
   "outputs": [
    {
     "name": "stdout",
     "output_type": "stream",
     "text": [
      "['main', 'move_free', 'foam_brick', 'meat_can', 'soup_can']\n",
      "Connecting to meshcat-server at zmq_url=tcp://127.0.0.1:6000...\n",
      "You can open the visualizer by visiting the following URL:\n",
      "http://127.0.0.1:7000/static/\n",
      "Connected to meshcat-server.\n"
     ]
    }
   ],
   "source": [
    "stations = p.make_all_stations()\n",
    "print(list(stations.keys()))\n",
    "builder = DiagramBuilder()\n",
    "station = stations[\"meat_can\"]\n",
    "builder.AddSystem(station)\n",
    "plant, scene_graph = station.get_plant_and_scene_graph()\n",
    "meshcat = pydrake.systems.meshcat_visualizer.ConnectMeshcatVisualizer(builder,\n",
    "          scene_graph,\n",
    "          output_port=station.GetOutputPort(\"query_object\"),\n",
    "          delete_prefix_on_load=True,                                      \n",
    "          zmq_url=zmq_url)#, role = Role.kProximity)# <- this commented part allows visualization of the collisions\n",
    "meshcat.load()\n",
    "diagram = builder.Build()\n",
    "simulator = Simulator(diagram)\n",
    "simulator_context = simulator.get_context()\n",
    "station_context = station.GetMyContextFromRoot(simulator_context)\n",
    "station.GetInputPort(\"panda_position\").FixValue(station_context, np.array([np.pi/4, 0.1, 0, -1, 0, 1.5, 0]))\n",
    "station.GetInputPort(\"hand_position\").FixValue(station_context, [0.08])\n",
    "\n",
    "meshcat.start_recording()\n",
    "simulator.AdvanceTo(2.0)\n",
    "meshcat.stop_recording()\n",
    "meshcat.publish_recording()"
   ]
  }
 ],
 "metadata": {
  "kernelspec": {
   "display_name": "drake_env",
   "language": "python",
   "name": "drake_env"
  },
  "language_info": {
   "codemirror_mode": {
    "name": "ipython",
    "version": 3
   },
   "file_extension": ".py",
   "mimetype": "text/x-python",
   "name": "python",
   "nbconvert_exporter": "python",
   "pygments_lexer": "ipython3",
   "version": "3.6.9"
  }
 },
 "nbformat": 4,
 "nbformat_minor": 2
}
