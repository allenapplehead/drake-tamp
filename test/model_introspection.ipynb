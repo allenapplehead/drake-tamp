{
 "cells": [
  {
   "cell_type": "code",
   "execution_count": 4,
   "metadata": {},
   "outputs": [],
   "source": [
    "from meshcat.servers.zmqserver import start_zmq_server_as_subprocess\n",
    "proc, zmq_url, web_url = start_zmq_server_as_subprocess(server_args=[])\n",
    "\n",
    "import numpy as np\n",
    "\n",
    "import pydrake.all\n",
    "from pydrake.all import (\n",
    "    RigidTransform, RotationMatrix, AngleAxis, RollPitchYaw, InverseKinematics, MultibodyPlant, Parser,\n",
    "    FindResourceOrThrow, Solve, PiecewisePolynomial, TrajectorySource, SceneGraph, DiagramBuilder,\n",
    "    AddMultibodyPlantSceneGraph, LinearBushingRollPitchYaw, MathematicalProgram, AutoDiffXd, GenerateHtml, Role,\n",
    "    LeafSystem, AbstractValue, PublishEvent, TriggerType, BasicVector, PiecewiseQuaternionSlerp,\n",
    "    RandomGenerator, UniformlyRandomRotationMatrix, Simulator\n",
    "    )\n",
    "\n",
    "from panda_station import *"
   ]
  },
  {
   "cell_type": "code",
   "execution_count": 14,
   "metadata": {},
   "outputs": [
    {
     "name": "stdout",
     "output_type": "stream",
     "text": [
      "Connecting to meshcat-server at zmq_url=tcp://127.0.0.1:6001...\n",
      "You can open the visualizer by visiting the following URL:\n",
      "http://127.0.0.1:7001/static/\n",
      "Connected to meshcat-server.\n"
     ]
    }
   ],
   "source": [
    "builder = DiagramBuilder()\n",
    "station = builder.AddSystem(PandaStation())\n",
    "station.setup_from_file(\"directives/three_tables.yaml\")\n",
    "station.add_panda_with_hand()\n",
    "station.add_model_from_file(find_resource(\"models/manipulands/sdf/foam_brick.sdf\"),\n",
    "                           RigidTransform(RotationMatrix(), [0.6, 0, 0.2]))\n",
    "station.add_model_from_file(find_resource(\"models/manipulands/sdf/meat_can.sdf\"),\n",
    "                           RigidTransform(RotationMatrix(), [0.5, 0.2, 0.2]))\n",
    "station.finalize()\n",
    "plant, scene_graph = station.get_plant_and_scene_graph()\n",
    "\n",
    "meshcat = pydrake.systems.meshcat_visualizer.ConnectMeshcatVisualizer(builder,\n",
    "          scene_graph,\n",
    "          output_port=station.GetOutputPort(\"query_object\"),\n",
    "          delete_prefix_on_load=True,                                      \n",
    "          zmq_url=zmq_url)#, role = Role.kProximity)# <- this commented part allows visualization of the collisions\n",
    "meshcat.load()\n",
    "diagram = builder.Build()\n",
    "simulator = Simulator(diagram)\n",
    "simulator_context = simulator.get_context()\n",
    "station_context = station.GetMyContextFromRoot(simulator_context)\n",
    "station.GetInputPort(\"panda_position\").FixValue(station_context, np.array([np.pi/4, 0.1, 0, -1, 0, 1.5, 0]))\n",
    "station.GetInputPort(\"hand_position\").FixValue(station_context, [0.08])\n",
    "\n",
    "meshcat.start_recording()\n",
    "simulator.AdvanceTo(5.0)\n",
    "meshcat.stop_recording()\n",
    "meshcat.publish_recording()"
   ]
  }
 ],
 "metadata": {
  "kernelspec": {
   "display_name": "drake_env",
   "language": "python",
   "name": "drake_env"
  },
  "language_info": {
   "codemirror_mode": {
    "name": "ipython",
    "version": 3
   },
   "file_extension": ".py",
   "mimetype": "text/x-python",
   "name": "python",
   "nbconvert_exporter": "python",
   "pygments_lexer": "ipython3",
   "version": "3.6.9"
  }
 },
 "nbformat": 4,
 "nbformat_minor": 2
}
