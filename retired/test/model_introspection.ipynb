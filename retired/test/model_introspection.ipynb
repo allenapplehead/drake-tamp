{
 "cells": [
  {
   "cell_type": "code",
   "execution_count": 1,
   "metadata": {},
   "outputs": [],
   "source": [
    "from meshcat.servers.zmqserver import start_zmq_server_as_subprocess\n",
    "proc, zmq_url, web_url = start_zmq_server_as_subprocess(server_args=[])\n",
    "\n",
    "import numpy as np\n",
    "\n",
    "import pydrake.all\n",
    "from pydrake.all import (\n",
    "    RigidTransform, RotationMatrix, AngleAxis, RollPitchYaw, InverseKinematics, MultibodyPlant, Parser,\n",
    "    FindResourceOrThrow, Solve, PiecewisePolynomial, TrajectorySource, SceneGraph, DiagramBuilder,\n",
    "    AddMultibodyPlantSceneGraph, LinearBushingRollPitchYaw, MathematicalProgram, AutoDiffXd, GenerateHtml, Role,\n",
    "    LeafSystem, AbstractValue, PublishEvent, TriggerType, BasicVector, PiecewiseQuaternionSlerp,\n",
    "    RandomGenerator, UniformlyRandomRotationMatrix, Simulator, FixedOffsetFrame, ConnectMeshcatVisualizer\n",
    "    )\n",
    "\n",
    "from panda_station import *"
   ]
  },
  {
   "cell_type": "code",
   "execution_count": 3,
   "metadata": {
    "scrolled": false
   },
   "outputs": [
    {
     "name": "stdout",
     "output_type": "stream",
     "text": [
      "\u001b[1;34mBuilding move_free station\u001b[0;0m\n",
      "Connecting to meshcat-server at zmq_url=tcp://127.0.0.1:6001...\n",
      "You can open the visualizer by visiting the following URL:\n",
      "http://127.0.0.1:7001/static/\n",
      "Connected to meshcat-server.\n",
      "False\n"
     ]
    }
   ],
   "source": [
    "builder = DiagramBuilder()\n",
    "\n",
    "problem_info = ProblemInfo(\"/home/agrobenj/drake-tamp/experiments/kitchen/problems/kitchen_problem.yaml\")\n",
    "station = problem_info.make_move_free_station()\n",
    "builder.AddSystem(station)\n",
    "\n",
    "plant, scene_graph = station.get_plant_and_scene_graph()\n",
    "meshcat = ConnectMeshcatVisualizer(\n",
    "    builder,\n",
    "    scene_graph,\n",
    "    output_port = station.GetOutputPort(\"query_object\"),\n",
    "    delete_prefix_on_load = True,\n",
    "    zmq_url = zmq_url,\n",
    "    #role = Role.kProximity\n",
    ")\n",
    "meshcat.load()\n",
    "diagram = builder.Build()\n",
    "simulator = Simulator(diagram)\n",
    "simulator_context = simulator.get_context()\n",
    "station_context = station.GetMyContextFromRoot(simulator_context)\n",
    "plant_context = plant.GetMyContextFromRoot(simulator_context)\n",
    "meshcat.start_recording()\n",
    "simulator.AdvanceTo(1.0)\n",
    "meshcat.stop_recording()\n",
    "meshcat.publish_recording()\n",
    "plant_context = station.GetSubsystemContext(plant, station_context)\n",
    "scene_graph_context = station.GetSubsystemContext(scene_graph, station_context)\n",
    "panda = station.get_panda()\n",
    "hand = station.get_hand()\n",
    "query_output_port = scene_graph.GetOutputPort(\"query\")\n",
    "query_object = query_output_port.Eval(scene_graph_context)\n",
    "print(query_object.HasCollisions())"
   ]
  },
  {
   "cell_type": "code",
   "execution_count": null,
   "metadata": {},
   "outputs": [],
   "source": []
  }
 ],
 "metadata": {
  "kernelspec": {
   "display_name": "drake_env",
   "language": "python",
   "name": "drake_env"
  },
  "language_info": {
   "codemirror_mode": {
    "name": "ipython",
    "version": 3
   },
   "file_extension": ".py",
   "mimetype": "text/x-python",
   "name": "python",
   "nbconvert_exporter": "python",
   "pygments_lexer": "ipython3",
   "version": "3.6.9"
  }
 },
 "nbformat": 4,
 "nbformat_minor": 2
}
