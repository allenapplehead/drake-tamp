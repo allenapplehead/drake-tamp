{
 "cells": [
  {
   "cell_type": "code",
   "execution_count": 1,
   "metadata": {},
   "outputs": [],
   "source": [
    "import numpy as np "
   ]
  },
  {
   "cell_type": "code",
   "execution_count": 2,
   "metadata": {},
   "outputs": [],
   "source": [
    "import torch\n",
    "import torch.nn as nn\n",
    "import torch.nn.functional as F\n",
    "from torch.cuda import stream\n",
    "from torch.nn.utils.rnn import pad_sequence\n",
    "from torch_geometric.data import Batch\n",
    "from torch_geometric.nn import GCNConv, MetaLayer\n",
    "from torch_scatter import scatter_mean\n",
    "\n",
    "class PerceptionNetwork(nn.Module):\n",
    "    \n",
    "    def __init__(self):\n",
    "        super().__init__()\n",
    "        self.conv1 = nn.Conv2d(4, 6, 5)\n",
    "        self.pool = nn.MaxPool2d(2, 2)\n",
    "        self.conv2 = nn.Conv2d(6, 16, 5)\n",
    "        fc_size = 16*(((((800-4)/2)-4)/2)**2)\n",
    "        fc_size = int(fc_size)\n",
    "        self.fc1 = nn.Linear(fc_size, 120)\n",
    "        self.fc2 = nn.Linear(120, 84)\n",
    "        self.fc3 = nn.Linear(84, 64)\n",
    "\n",
    "    def forward(self, x):\n",
    "        x = self.pool(F.relu(self.conv1(x)))\n",
    "        x = self.pool(F.relu(self.conv2(x)))\n",
    "        x = torch.flatten(x, 1) #620944\n",
    "        x = F.relu(self.fc1(x))\n",
    "        x = F.relu(self.fc2(x))\n",
    "        x = self.fc3(x)\n",
    "        return x \n"
   ]
  },
  {
   "cell_type": "code",
   "execution_count": 3,
   "metadata": {},
   "outputs": [],
   "source": [
    "def get_perception(perception_raw):\n",
    "    # import matplotlib.pyplot as plt \n",
    "    # plt.subplot(121)\n",
    "    # plt.imshow(problem_info.perception['color'])\n",
    "    # plt.title('Color image')\n",
    "    # plt.subplot(122)\n",
    "    # plt.imshow(np.squeeze(problem_info.perception['depth']))\n",
    "    # plt.title('Depth image')\n",
    "    # plt.savefig('/home/alex/drake-tamp/learning/gnn/test_rgbd_0.png')\n",
    "    \n",
    "    #TODO do clipping and normalization\n",
    "    from numpy import inf \n",
    "    #the 4th channel is alpha we don't care \n",
    "    col = perception_raw['color'][:, :, :3]\n",
    "    dep = perception_raw['depth'][:, :, ]\n",
    "\n",
    "    #change everything at infinite distance to just be the ground \n",
    "    dep[dep == inf] = np.max(dep[dep < 1000])\n",
    "\n",
    "    #stack the depth and rgb data\n",
    "    perception = torch.from_numpy(np.concatenate((col, dep), axis=2))\n",
    "\n",
    "    #normalizing\n",
    "    input = torch.reshape(perception, (640000, 4))\n",
    "    means = torch.mean(input, axis=0)\n",
    "    std = torch.std(input, dim=0)\n",
    "    normalized = (input - means)/std\n",
    "    input = torch.reshape(normalized, (800, 800, 4))\n",
    "\n",
    "    #reshaping to NCWH format for convolution \n",
    "    perception = input.permute(2, 0, 1)\n",
    "    perception = perception.reshape([1, 4, 800, 800])\n",
    "    perception = torch.nn.functional.interpolate(perception, (200, 200))\n",
    "    return perception"
   ]
  },
  {
   "cell_type": "code",
   "execution_count": 4,
   "metadata": {},
   "outputs": [],
   "source": [
    "import pickle\n",
    "\n",
    "pik_file = \"/home/alex/drake-tamp/experiments/jobs/clutter/train/oracle/5_10_3_13.yaml_logs/2022-07-07-18:59:29.921_labels.pkl\" \n",
    "with open(pik_file, \"rb\") as file:\n",
    "    data = pickle.load(file)\n",
    "\n",
    "\n",
    "\n",
    "perception = get_perception(data['problem_info'].perception )\n"
   ]
  },
  {
   "cell_type": "code",
   "execution_count": 5,
   "metadata": {},
   "outputs": [
    {
     "name": "stdout",
     "output_type": "stream",
     "text": [
      "torch.Size([1, 4, 200, 200])\n"
     ]
    },
    {
     "data": {
      "image/png": "[encoded data removed]",
      "text/plain": [
       "<matplotlib.figure.Figure at 0x7fc0e5724208>"
      ]
     },
     "metadata": {},
     "output_type": "display_data"
    }
   ],
   "source": [
    "import matplotlib.pyplot as plt\n",
    "# small = torch.nn.functional.interpolate(perception, (200, 200))\n",
    "\n",
    "print(perception.shape)\n",
    "\n",
    "plt.imshow(np.squeeze(data['problem_info'].perception['depth'], axis=2))\n",
    "plt.show()"
   ]
  },
  {
   "cell_type": "code",
   "execution_count": 123,
   "metadata": {},
   "outputs": [
    {
     "data": {
      "text/plain": [
       "[{'X': <panda_station.utils.RigidTransformWrapper at 0x7fc0ffce15c0>,\n",
       "  'name': 'block0',\n",
       "  'static': False},\n",
       " {'X': <panda_station.utils.RigidTransformWrapper at 0x7fc0ffce17b8>,\n",
       "  'name': 'block1',\n",
       "  'static': False},\n",
       " {'X': <panda_station.utils.RigidTransformWrapper at 0x7fc2862b9278>,\n",
       "  'name': 'block2',\n",
       "  'static': False},\n",
       " {'X': <panda_station.utils.RigidTransformWrapper at 0x7fc2862b9780>,\n",
       "  'name': 'block3',\n",
       "  'static': False},\n",
       " {'X': <panda_station.utils.RigidTransformWrapper at 0x7fc2862b99b0>,\n",
       "  'name': 'block4',\n",
       "  'static': False},\n",
       " {'X': <panda_station.utils.RigidTransformWrapper at 0x7fc2862b9b38>,\n",
       "  'name': 'blocker0',\n",
       "  'static': False},\n",
       " {'X': <panda_station.utils.RigidTransformWrapper at 0x7fc2862b9ba8>,\n",
       "  'name': 'blocker1',\n",
       "  'static': False},\n",
       " {'X': <panda_station.utils.RigidTransformWrapper at 0x7fc2862b9f28>,\n",
       "  'name': 'blocker2',\n",
       "  'static': False},\n",
       " {'X': <panda_station.utils.RigidTransformWrapper at 0x7fc0e5709198>,\n",
       "  'name': 'blocker3',\n",
       "  'static': False},\n",
       " {'X': <panda_station.utils.RigidTransformWrapper at 0x7fc0e57091d0>,\n",
       "  'name': 'blocker4',\n",
       "  'static': False},\n",
       " {'X': <panda_station.utils.RigidTransformWrapper at 0x7fc0e5709208>,\n",
       "  'name': 'blocker5',\n",
       "  'static': False},\n",
       " {'X': <panda_station.utils.RigidTransformWrapper at 0x7fc0e5709240>,\n",
       "  'name': 'blocker6',\n",
       "  'static': False},\n",
       " {'X': <panda_station.utils.RigidTransformWrapper at 0x7fc0e5709278>,\n",
       "  'name': 'blocker7',\n",
       "  'static': False},\n",
       " {'X': <panda_station.utils.RigidTransformWrapper at 0x7fc0e57092b0>,\n",
       "  'name': 'blocker8',\n",
       "  'static': False},\n",
       " {'X': <panda_station.utils.RigidTransformWrapper at 0x7fc0e5709320>,\n",
       "  'name': 'blocker9',\n",
       "  'static': False},\n",
       " {'X': RigidTransform(\n",
       "    R=RotationMatrix([\n",
       "      [1.0, 0.0, 0.0],\n",
       "      [0.0, 1.0, 0.0],\n",
       "      [0.0, 0.0, 1.0],\n",
       "    ]),\n",
       "    p=[-0.6, 0.0, 0.0],\n",
       "  ), 'name': ('blue_table', 'base_link'), 'static': True},\n",
       " {'X': RigidTransform(\n",
       "    R=RotationMatrix([\n",
       "      [6.123233995736766e-17, -1.0, 0.0],\n",
       "      [1.0, 6.123233995736766e-17, 0.0],\n",
       "      [0.0, 0.0, 1.0],\n",
       "    ]),\n",
       "    p=[0.0, 0.6, 0.0],\n",
       "  ), 'name': ('green_table', 'base_link'), 'static': True},\n",
       " {'X': RigidTransform(\n",
       "    R=RotationMatrix([\n",
       "      [6.123233995736766e-17, -1.0, 0.0],\n",
       "      [1.0, 6.123233995736766e-17, 0.0],\n",
       "      [0.0, 0.0, 1.0],\n",
       "    ]),\n",
       "    p=[0.0, -0.6, 0.0],\n",
       "  ), 'name': ('purple_table', 'base_link'), 'static': True},\n",
       " {'X': RigidTransform(\n",
       "    R=RotationMatrix([\n",
       "      [1.0, 0.0, 0.0],\n",
       "      [0.0, 1.0, 0.0],\n",
       "      [0.0, 0.0, 1.0],\n",
       "    ]),\n",
       "    p=[0.6, 0.0, 0.0],\n",
       "  ), 'name': ('red_table', 'base_link'), 'static': True},\n",
       " {'X': RigidTransform(\n",
       "    R=RotationMatrix([\n",
       "      [1.0, 0.0, 0.0],\n",
       "      [0.0, 1.0, 0.0],\n",
       "      [0.0, 0.0, 1.0],\n",
       "    ]),\n",
       "    p=[0.0, 0.0, 0.0],\n",
       "  ), 'name': 'panda', 'static': True}]"
      ]
     },
     "execution_count": 123,
     "metadata": {},
     "output_type": "execute_result"
    }
   ],
   "source": [
    "data['problem_info'].model_poses"
   ]
  },
  {
   "cell_type": "code",
   "execution_count": 129,
   "metadata": {},
   "outputs": [
    {
     "name": "stdout",
     "output_type": "stream",
     "text": [
      "-0.43826505345437083 -0.3061960360808463 0.3249999063789905\n"
     ]
    }
   ],
   "source": [
    "from math import pi, tan\n",
    "\n",
    "z_cam = 2 \n",
    "problem_info = data['problem_info']\n",
    "(x, y, z) = problem_info.model_poses[4]['X'].rigid_transform.translation()\n",
    "# z = problem_info.model_poses[0]['X'].rigid_transform.translation()[2]\n",
    "# x = problem_info.model_poses[0]['X'].rigid_transform.translation()[0]\n",
    "# y = problem_info.model_poses[0]['X'].rigid_transform.translation()[1]\n",
    "fov = pi/3\n",
    "w = (z_cam - z)*tan(fov/2)  \n",
    "w_pix = 800\n",
    "x_portion = x/w\n",
    "y_portion = y/w \n",
    "print(x, y, z)\n",
    "coords = (x_portion, -y_portion)"
   ]
  },
  {
   "cell_type": "code",
   "execution_count": 130,
   "metadata": {},
   "outputs": [
    {
     "name": "stdout",
     "output_type": "stream",
     "text": [
      "proportional coords: (-0.45319241632031565, 0.31662511159728735)\n",
      "(219, 526)\n"
     ]
    },
    {
     "data": {
      "image/png": "[encoded data removed]",
      "text/plain": [
       "<matplotlib.figure.Figure at 0x7fc0c81ebbe0>"
      ]
     },
     "metadata": {},
     "output_type": "display_data"
    },
    {
     "data": {
      "image/png": "[encoded data removed]",
      "text/plain": [
       "<matplotlib.figure.Figure at 0x7fc0c81ebb70>"
      ]
     },
     "metadata": {},
     "output_type": "display_data"
    }
   ],
   "source": [
    "#return mask for object given object coords in image space \n",
    "import cv2\n",
    "def get_object_mask(rgb, coords):\n",
    "    mask = np.zeros((rgb.shape[0]+2, rgb.shape[1]+2, 1), np.uint8)\n",
    "    print(\"proportional coords:\", coords)\n",
    "    coords_abs = (400 + int(coords[0]*(rgb.shape[0]/2)), 400 +int(coords[1]*(rgb.shape[1]/2)))\n",
    "    #coords_abs = (600, 300)\n",
    "    circle_image = rgb.copy()\n",
    "    print(coords_abs)\n",
    "    cv2.circle(circle_image, coords_abs, 10, (255, 0, 255), 10)\n",
    "    plt.imshow(circle_image)\n",
    "    plt.show()\n",
    "    retval = cv2.floodFill(rgb, mask, coords_abs, (250, 250, 250))\n",
    "    # plt.imshow(mask.squeeze(axis=2))\n",
    "    # plt.show()\n",
    "    m = torch.from_numpy(mask)\n",
    "    m = m.permute(2, 0, 1)\n",
    "    m = m.reshape(1, 1, 802, 802)\n",
    "    m = torch.nn.functional.interpolate(m, (200, 200))\n",
    "    return m\n",
    "\n",
    "rgb = data['problem_info'].perception['color'][:, :, :3].copy()\n",
    "mask = get_object_mask(rgb, coords)\n",
    "\n",
    "plt.imshow(mask[0][0])\n",
    "# plt.imshow(rgb)\n",
    "plt.show()\n"
   ]
  },
  {
   "cell_type": "code",
   "execution_count": 11,
   "metadata": {},
   "outputs": [
    {
     "data": {
      "text/plain": [
       "torch.Size([1, 2, 200, 200])"
      ]
     },
     "execution_count": 11,
     "metadata": {},
     "output_type": "execute_result"
    }
   ],
   "source": [
    "a = torch.zeros((1, 1, 200, 200))\n",
    "b = torch.ones((1, 1, 200, 200))\n",
    "c = torch.cat((a, b), axis=1)\n",
    "c.shape"
   ]
  }
 ],
 "metadata": {
  "kernelspec": {
   "display_name": "Python 3.6.9 ('tamp')",
   "language": "python",
   "name": "python3"
  },
  "language_info": {
   "codemirror_mode": {
    "name": "ipython",
    "version": 3
   },
   "file_extension": ".py",
   "mimetype": "text/x-python",
   "name": "python",
   "nbconvert_exporter": "python",
   "pygments_lexer": "ipython3",
   "version": "3.6.9"
  },
  "vscode": {
   "interpreter": {
    "hash": "da4c67826f222e69f6161c424aec33e32b54408f2e72e6dbaecf5537bf061e6d"
   }
  }
 },
 "nbformat": 4,
 "nbformat_minor": 2
}
