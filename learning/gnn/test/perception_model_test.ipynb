{
 "cells": [
  {
   "cell_type": "code",
   "execution_count": 1,
   "metadata": {},
   "outputs": [],
   "source": [
    "import numpy as np "
   ]
  },
  {
   "cell_type": "code",
   "execution_count": 3,
   "metadata": {},
   "outputs": [],
   "source": [
    "import torch\n",
    "import torch.nn as nn\n",
    "import torch.nn.functional as F\n",
    "from torch.cuda import stream\n",
    "from torch.nn.utils.rnn import pad_sequence\n",
    "from torch_geometric.data import Batch\n",
    "from torch_geometric.nn import GCNConv, MetaLayer\n",
    "from torch_scatter import scatter_mean\n",
    "\n",
    "class PerceptionNetwork(nn.Module):\n",
    "    \n",
    "    def __init__(self):\n",
    "        super().__init__()\n",
    "        self.conv1 = nn.Conv2d(4, 6, 5)\n",
    "        self.pool = nn.MaxPool2d(2, 2)\n",
    "        self.conv2 = nn.Conv2d(6, 16, 5)\n",
    "        fc_size = 16*(((((800-4)/2)-4)/2)**2)\n",
    "        fc_size = int(fc_size)\n",
    "        self.fc1 = nn.Linear(fc_size, 120)\n",
    "        self.fc2 = nn.Linear(120, 84)\n",
    "        self.fc3 = nn.Linear(84, 64)\n",
    "\n",
    "    def forward(self, x):\n",
    "        x = self.pool(F.relu(self.conv1(x)))\n",
    "        x = self.pool(F.relu(self.conv2(x)))\n",
    "        x = torch.flatten(x, 1) #620944\n",
    "        x = F.relu(self.fc1(x))\n",
    "        x = F.relu(self.fc2(x))\n",
    "        x = self.fc3(x)\n",
    "        return x \n"
   ]
  },
  {
   "cell_type": "code",
   "execution_count": 4,
   "metadata": {},
   "outputs": [],
   "source": [
    "def get_perception(problem_info):\n",
    "    # import matplotlib.pyplot as plt \n",
    "    # plt.subplot(121)\n",
    "    # plt.imshow(problem_info.perception['color'])\n",
    "    # plt.title('Color image')\n",
    "    # plt.subplot(122)\n",
    "    # plt.imshow(np.squeeze(problem_info.perception['depth']))\n",
    "    # plt.title('Depth image')\n",
    "    # plt.savefig('/home/alex/drake-tamp/learning/gnn/test_rgbd_0.png')\n",
    "    #TODO do clipping and normalization\n",
    "    from numpy import inf \n",
    "    col = problem_info.perception['color'][:, :, :3]\n",
    "    dep = problem_info.perception['depth'][:, :, ]\n",
    "    dep[dep == inf] = np.max(dep[dep < 1000])\n",
    "    perception = torch.from_numpy(np.concatenate((col, dep), axis=2))\n",
    "\n",
    "    #normalizing\n",
    "    input = torch.reshape(perception, (640000, 4))\n",
    "    means = torch.mean(input, axis=0)\n",
    "    std = torch.std(input, dim=0)\n",
    "    normalized = (input - means)/std\n",
    "    input = torch.reshape(normalized, (800, 800, 4))\n",
    "\n",
    "    #reshaping to NCWH format for convolution \n",
    "    perception = input.permute(2, 0, 1)\n",
    "    perception = perception.reshape([1, 4, 800, 800])\n",
    "    return perception, input"
   ]
  },
  {
   "cell_type": "code",
   "execution_count": 5,
   "metadata": {},
   "outputs": [],
   "source": [
    "import pickle\n",
    "\n",
    "pik_file = \"/home/alex/drake-tamp/experiments/jobs/random-rgbd/test/oracle/7_5_1_25.yaml_logs/2022-06-20-18:19:41.915_labels.pkl\" \n",
    "with open(pik_file, \"rb\") as file:\n",
    "    data = pickle.load(file)\n",
    "\n",
    "perception, input = get_perception(data['problem_info'])\n"
   ]
  },
  {
   "cell_type": "code",
   "execution_count": 15,
   "metadata": {},
   "outputs": [
    {
     "data": {
      "image/png": "[encoded data removed]",
      "text/plain": [
       "<matplotlib.figure.Figure at 0x7f9f501804e0>"
      ]
     },
     "metadata": {},
     "output_type": "display_data"
    }
   ],
   "source": [
    "import matplotlib.pyplot as plt\n",
    "small = torch.nn.functional.interpolate(perception, (200, 200))\n",
    "\n",
    "plt.imshow(small[0][3])\n",
    "plt.show()"
   ]
  },
  {
   "cell_type": "code",
   "execution_count": 193,
   "metadata": {},
   "outputs": [
    {
     "data": {
      "text/plain": [
       "tensor([[-0.0745,  0.0805, -0.0083,  0.0388, -0.0542,  0.1535,  0.0197,  0.0319,\n",
       "         -0.0240, -0.0815, -0.0807,  0.0006, -0.0872,  0.0183,  0.0350,  0.1053,\n",
       "         -0.0318,  0.0792,  0.0038,  0.0793, -0.0024,  0.0557,  0.0490,  0.0066,\n",
       "         -0.0562, -0.0784, -0.0586,  0.0843,  0.0349, -0.1361,  0.1450,  0.0142,\n",
       "          0.0186, -0.0084, -0.0249,  0.0684, -0.0560, -0.0593,  0.0535,  0.1066,\n",
       "         -0.0300,  0.0677, -0.0286, -0.0819,  0.0078,  0.0822, -0.0560, -0.0264,\n",
       "         -0.0637, -0.0313, -0.0550, -0.1186, -0.0226,  0.0880, -0.0729,  0.0315,\n",
       "          0.0184,  0.0125, -0.0662, -0.0573, -0.0538, -0.1245,  0.0609,  0.0189]],\n",
       "       grad_fn=<AddmmBackward>)"
      ]
     },
     "execution_count": 193,
     "metadata": {},
     "output_type": "execute_result"
    }
   ],
   "source": [
    "net = PerceptionNetwork()\n",
    "input.shape\n",
    "net(input)\n",
    "# plt.imshow((input).detach().numpy()[0, 3])\n",
    "# plt.show()"
   ]
  }
 ],
 "metadata": {
  "kernelspec": {
   "display_name": "Python 3.6.9 ('tamp')",
   "language": "python",
   "name": "python3"
  },
  "language_info": {
   "codemirror_mode": {
    "name": "ipython",
    "version": 3
   },
   "file_extension": ".py",
   "mimetype": "text/x-python",
   "name": "python",
   "nbconvert_exporter": "python",
   "pygments_lexer": "ipython3",
   "version": "3.6.9"
  },
  "vscode": {
   "interpreter": {
    "hash": "da4c67826f222e69f6161c424aec33e32b54408f2e72e6dbaecf5537bf061e6d"
   }
  }
 },
 "nbformat": 4,
 "nbformat_minor": 2
}
