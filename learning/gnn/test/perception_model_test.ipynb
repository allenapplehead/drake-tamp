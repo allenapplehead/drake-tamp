{
 "cells": [
  {
   "cell_type": "code",
   "execution_count": 1,
   "metadata": {},
   "outputs": [],
   "source": [
    "import numpy as np "
   ]
  },
  {
   "cell_type": "code",
   "execution_count": 2,
   "metadata": {},
   "outputs": [],
   "source": [
    "import torch\n",
    "import torch.nn as nn\n",
    "import torch.nn.functional as F\n",
    "from torch.cuda import stream\n",
    "from torch.nn.utils.rnn import pad_sequence\n",
    "from torch_geometric.data import Batch\n",
    "from torch_geometric.nn import GCNConv, MetaLayer\n",
    "from torch_scatter import scatter_mean\n",
    "\n",
    "class PerceptionNetwork(nn.Module):\n",
    "    \n",
    "    def __init__(self):\n",
    "        super().__init__()\n",
    "        self.conv1 = nn.Conv2d(4, 6, 5)\n",
    "        self.pool = nn.MaxPool2d(2, 2)\n",
    "        self.conv2 = nn.Conv2d(6, 16, 5)\n",
    "        fc_size = 16*(((((800-4)/2)-4)/2)**2)\n",
    "        fc_size = int(fc_size)\n",
    "        self.fc1 = nn.Linear(fc_size, 120)\n",
    "        self.fc2 = nn.Linear(120, 84)\n",
    "        self.fc3 = nn.Linear(84, 64)\n",
    "\n",
    "    def forward(self, x):\n",
    "        x = self.pool(F.relu(self.conv1(x)))\n",
    "        x = self.pool(F.relu(self.conv2(x)))\n",
    "        x = torch.flatten(x, 1) #620944\n",
    "        x = F.relu(self.fc1(x))\n",
    "        x = F.relu(self.fc2(x))\n",
    "        x = self.fc3(x)\n",
    "        return x \n"
   ]
  },
  {
   "cell_type": "code",
   "execution_count": 3,
   "metadata": {},
   "outputs": [],
   "source": [
    "def get_perception(perception_raw):\n",
    "    # import matplotlib.pyplot as plt \n",
    "    # plt.subplot(121)\n",
    "    # plt.imshow(problem_info.perception['color'])\n",
    "    # plt.title('Color image')\n",
    "    # plt.subplot(122)\n",
    "    # plt.imshow(np.squeeze(problem_info.perception['depth']))\n",
    "    # plt.title('Depth image')\n",
    "    # plt.savefig('/home/alex/drake-tamp/learning/gnn/test_rgbd_0.png')\n",
    "    \n",
    "    #TODO do clipping and normalization\n",
    "    from numpy import inf \n",
    "    #the 4th channel is alpha we don't care \n",
    "    col = perception_raw['color'][:, :, :3]\n",
    "    dep = perception_raw['depth'][:, :, ]\n",
    "\n",
    "    #change everything at infinite distance to just be the ground \n",
    "    dep[dep == inf] = np.max(dep[dep < 1000])\n",
    "\n",
    "    #stack the depth and rgb data\n",
    "    perception = torch.from_numpy(np.concatenate((col, dep), axis=2))\n",
    "\n",
    "    #normalizing\n",
    "    input = torch.reshape(perception, (640000, 4))\n",
    "    means = torch.mean(input, axis=0)\n",
    "    std = torch.std(input, dim=0)\n",
    "    normalized = (input - means)/std\n",
    "    input = torch.reshape(normalized, (800, 800, 4))\n",
    "\n",
    "    #reshaping to NCWH format for convolution \n",
    "    perception = input.permute(2, 0, 1)\n",
    "    perception = perception.reshape([1, 4, 800, 800])\n",
    "    perception = torch.nn.functional.interpolate(perception, (200, 200))\n",
    "    return perception"
   ]
  },
  {
   "cell_type": "code",
   "execution_count": 4,
   "metadata": {},
   "outputs": [],
   "source": [
    "import pickle\n",
    "\n",
    "pik_file = \"/home/alex/drake-tamp/experiments/jobs/clutter/train/oracle/5_10_3_13.yaml_logs/2022-07-07-18:59:29.921_labels.pkl\" \n",
    "with open(pik_file, \"rb\") as file:\n",
    "    data = pickle.load(file)\n",
    "\n",
    "\n",
    "\n",
    "perception = get_perception(data['problem_info'].perception )\n"
   ]
  },
  {
   "cell_type": "code",
   "execution_count": 5,
   "metadata": {},
   "outputs": [
    {
     "name": "stdout",
     "output_type": "stream",
     "text": [
      "torch.Size([1, 4, 200, 200])\n"
     ]
    },
    {
     "data": {
      "image/png": "[encoded data removed]",
      "text/plain": [
       "<matplotlib.figure.Figure at 0x7f8febcba240>"
      ]
     },
     "metadata": {},
     "output_type": "display_data"
    }
   ],
   "source": [
    "import matplotlib.pyplot as plt\n",
    "# small = torch.nn.functional.interpolate(perception, (200, 200))\n",
    "\n",
    "print(perception.shape)\n",
    "\n",
    "plt.imshow(np.squeeze(data['problem_info'].perception['depth'], axis=2))\n",
    "plt.show()"
   ]
  },
  {
   "cell_type": "code",
   "execution_count": 6,
   "metadata": {},
   "outputs": [
    {
     "data": {
      "image/png": "[encoded data removed]",
      "text/plain": [
       "<matplotlib.figure.Figure at 0x7f8febcc7cc0>"
      ]
     },
     "metadata": {},
     "output_type": "display_data"
    },
    {
     "name": "stdout",
     "output_type": "stream",
     "text": [
      "(802, 802, 1)\n"
     ]
    },
    {
     "ename": "ValueError",
     "evalue": "size shape must match input shape. Input is 1D, size is 3",
     "output_type": "error",
     "traceback": [
      "\u001b[0;31m---------------------------------------------------------------------------\u001b[0m",
      "\u001b[0;31mValueError\u001b[0m                                Traceback (most recent call last)",
      "\u001b[0;32m<ipython-input-6-3fdcebcfd817>\u001b[0m in \u001b[0;36m<module>\u001b[0;34m()\u001b[0m\n\u001b[1;32m     11\u001b[0m \u001b[0;34m\u001b[0m\u001b[0m\n\u001b[1;32m     12\u001b[0m \u001b[0mrgb\u001b[0m \u001b[0;34m=\u001b[0m \u001b[0mdata\u001b[0m\u001b[0;34m[\u001b[0m\u001b[0;34m'problem_info'\u001b[0m\u001b[0;34m]\u001b[0m\u001b[0;34m.\u001b[0m\u001b[0mperception\u001b[0m\u001b[0;34m[\u001b[0m\u001b[0;34m'color'\u001b[0m\u001b[0;34m]\u001b[0m\u001b[0;34m[\u001b[0m\u001b[0;34m:\u001b[0m\u001b[0;34m,\u001b[0m \u001b[0;34m:\u001b[0m\u001b[0;34m,\u001b[0m \u001b[0;34m:\u001b[0m\u001b[0;36m3\u001b[0m\u001b[0;34m]\u001b[0m\u001b[0;34m.\u001b[0m\u001b[0mcopy\u001b[0m\u001b[0;34m(\u001b[0m\u001b[0;34m)\u001b[0m\u001b[0;34m\u001b[0m\u001b[0;34m\u001b[0m\u001b[0m\n\u001b[0;32m---> 13\u001b[0;31m \u001b[0mget_object_mask\u001b[0m\u001b[0;34m(\u001b[0m\u001b[0mrgb\u001b[0m\u001b[0;34m,\u001b[0m \u001b[0;34m(\u001b[0m\u001b[0;36m450\u001b[0m\u001b[0;34m,\u001b[0m \u001b[0;36m190\u001b[0m\u001b[0;34m)\u001b[0m\u001b[0;34m)\u001b[0m\u001b[0;34m\u001b[0m\u001b[0;34m\u001b[0m\u001b[0m\n\u001b[0m",
      "\u001b[0;32m<ipython-input-6-3fdcebcfd817>\u001b[0m in \u001b[0;36mget_object_mask\u001b[0;34m(rgb, coords)\u001b[0m\n\u001b[1;32m      7\u001b[0m     \u001b[0mplt\u001b[0m\u001b[0;34m.\u001b[0m\u001b[0mshow\u001b[0m\u001b[0;34m(\u001b[0m\u001b[0;34m)\u001b[0m\u001b[0;34m\u001b[0m\u001b[0;34m\u001b[0m\u001b[0m\n\u001b[1;32m      8\u001b[0m     \u001b[0mprint\u001b[0m\u001b[0;34m(\u001b[0m\u001b[0mmask\u001b[0m\u001b[0;34m.\u001b[0m\u001b[0mshape\u001b[0m\u001b[0;34m)\u001b[0m\u001b[0;34m\u001b[0m\u001b[0;34m\u001b[0m\u001b[0m\n\u001b[0;32m----> 9\u001b[0;31m     \u001b[0mmask\u001b[0m \u001b[0;34m=\u001b[0m \u001b[0mtorch\u001b[0m\u001b[0;34m.\u001b[0m\u001b[0mnn\u001b[0m\u001b[0;34m.\u001b[0m\u001b[0mfunctional\u001b[0m\u001b[0;34m.\u001b[0m\u001b[0minterpolate\u001b[0m\u001b[0;34m(\u001b[0m\u001b[0mtorch\u001b[0m\u001b[0;34m.\u001b[0m\u001b[0mfrom_numpy\u001b[0m\u001b[0;34m(\u001b[0m\u001b[0mmask\u001b[0m\u001b[0;34m)\u001b[0m\u001b[0;34m,\u001b[0m \u001b[0;34m(\u001b[0m\u001b[0;36m200\u001b[0m\u001b[0;34m,\u001b[0m \u001b[0;36m200\u001b[0m\u001b[0;34m,\u001b[0m \u001b[0;36m1\u001b[0m\u001b[0;34m)\u001b[0m\u001b[0;34m)\u001b[0m\u001b[0;34m\u001b[0m\u001b[0;34m\u001b[0m\u001b[0m\n\u001b[0m\u001b[1;32m     10\u001b[0m     \u001b[0;32mreturn\u001b[0m \u001b[0mmask\u001b[0m\u001b[0;34m\u001b[0m\u001b[0;34m\u001b[0m\u001b[0m\n\u001b[1;32m     11\u001b[0m \u001b[0;34m\u001b[0m\u001b[0m\n",
      "\u001b[0;32m/python_venvs/tamp/lib/python3.6/site-packages/torch/nn/functional.py\u001b[0m in \u001b[0;36minterpolate\u001b[0;34m(input, size, scale_factor, mode, align_corners, recompute_scale_factor)\u001b[0m\n\u001b[1;32m   3629\u001b[0m             \u001b[0;32mif\u001b[0m \u001b[0mlen\u001b[0m\u001b[0;34m(\u001b[0m\u001b[0msize\u001b[0m\u001b[0;34m)\u001b[0m \u001b[0;34m!=\u001b[0m \u001b[0mdim\u001b[0m\u001b[0;34m:\u001b[0m\u001b[0;34m\u001b[0m\u001b[0;34m\u001b[0m\u001b[0m\n\u001b[1;32m   3630\u001b[0m                 raise ValueError(\n\u001b[0;32m-> 3631\u001b[0;31m                     \u001b[0;34m\"size shape must match input shape. \"\u001b[0m \u001b[0;34m\"Input is {}D, size is {}\"\u001b[0m\u001b[0;34m.\u001b[0m\u001b[0mformat\u001b[0m\u001b[0;34m(\u001b[0m\u001b[0mdim\u001b[0m\u001b[0;34m,\u001b[0m \u001b[0mlen\u001b[0m\u001b[0;34m(\u001b[0m\u001b[0msize\u001b[0m\u001b[0;34m)\u001b[0m\u001b[0;34m)\u001b[0m\u001b[0;34m\u001b[0m\u001b[0;34m\u001b[0m\u001b[0m\n\u001b[0m\u001b[1;32m   3632\u001b[0m                 )\n\u001b[1;32m   3633\u001b[0m             \u001b[0moutput_size\u001b[0m \u001b[0;34m=\u001b[0m \u001b[0msize\u001b[0m\u001b[0;34m\u001b[0m\u001b[0;34m\u001b[0m\u001b[0m\n",
      "\u001b[0;31mValueError\u001b[0m: size shape must match input shape. Input is 1D, size is 3"
     ]
    }
   ],
   "source": [
    "#return mask for object given object coords in image space \n",
    "import cv2\n",
    "def get_object_mask(rgb, coords):\n",
    "    mask = np.zeros((rgb.shape[0]+2, rgb.shape[1]+2, 1), np.uint8)\n",
    "    retval = cv2.floodFill(rgb, mask, coords, (250, 250, 250))\n",
    "    plt.imshow(mask.squeeze(axis=2))\n",
    "    plt.show()\n",
    "    print(mask.shape)\n",
    "    mask = torch.nn.functional.interpolate(torch.from_numpy(mask), (200, 200, 1))\n",
    "    return mask\n",
    "\n",
    "rgb = data['problem_info'].perception['color'][:, :, :3].copy()\n",
    "get_object_mask(rgb, (450, 190))\n"
   ]
  },
  {
   "cell_type": "code",
   "execution_count": 11,
   "metadata": {},
   "outputs": [
    {
     "data": {
      "text/plain": [
       "torch.Size([1, 2, 200, 200])"
      ]
     },
     "execution_count": 11,
     "metadata": {},
     "output_type": "execute_result"
    }
   ],
   "source": [
    "a = torch.zeros((1, 1, 200, 200))\n",
    "b = torch.ones((1, 1, 200, 200))\n",
    "c = torch.cat((a, b), axis=1)\n",
    "c.shape"
   ]
  }
 ],
 "metadata": {
  "kernelspec": {
   "display_name": "Python 3.6.9 ('tamp')",
   "language": "python",
   "name": "python3"
  },
  "language_info": {
   "codemirror_mode": {
    "name": "ipython",
    "version": 3
   },
   "file_extension": ".py",
   "mimetype": "text/x-python",
   "name": "python",
   "nbconvert_exporter": "python",
   "pygments_lexer": "ipython3",
   "version": "3.6.9"
  },
  "vscode": {
   "interpreter": {
    "hash": "da4c67826f222e69f6161c424aec33e32b54408f2e72e6dbaecf5537bf061e6d"
   }
  }
 },
 "nbformat": 4,
 "nbformat_minor": 2
}
